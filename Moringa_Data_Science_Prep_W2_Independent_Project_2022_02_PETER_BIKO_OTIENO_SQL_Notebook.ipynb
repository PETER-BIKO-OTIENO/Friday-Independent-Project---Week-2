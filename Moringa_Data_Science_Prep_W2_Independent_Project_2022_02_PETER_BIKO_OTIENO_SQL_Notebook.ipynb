{
  "nbformat": 4,
  "nbformat_minor": 0,
  "metadata": {
    "colab": {
      "name": "Moringa_Data_Science_Prep_W2_Independent_Project_2022_02_PETER_BIKO_OTIENO_SQL_Notebook.ipynb",
      "provenance": [],
      "collapsed_sections": []
    },
    "kernelspec": {
      "name": "python3",
      "display_name": "Python 3"
    },
    "language_info": {
      "name": "python"
    }
  },
  "cells": [
    {
      "cell_type": "markdown",
      "source": [
        "In this part of the assessment, you will act as a Data analyst to answer a research question on the US elections"
      ],
      "metadata": {
        "id": "VtRqr_JmKO3D"
      }
    },
    {
      "cell_type": "code",
      "source": [
        "# loading sql extensioN\n",
        "%load_ext sql\n",
        "\n",
        "# connecting to the memory sqlite database\n",
        "%sql sqlite://"
      ],
      "metadata": {
        "colab": {
          "base_uri": "https://localhost:8080/",
          "height": 35
        },
        "id": "e3p7f-1NKQae",
        "outputId": "1c8e1a54-8f99-41b0-998f-86f987dcf244"
      },
      "execution_count": null,
      "outputs": [
        {
          "output_type": "execute_result",
          "data": {
            "application/vnd.google.colaboratory.intrinsic+json": {
              "type": "string"
            },
            "text/plain": [
              "'Connected: @None'"
            ]
          },
          "metadata": {},
          "execution_count": 1
        }
      ]
    },
    {
      "cell_type": "code",
      "source": [
        "# importing python \n",
        "#\n",
        "import pandas as pd"
      ],
      "metadata": {
        "id": "g65C5b1TK54r"
      },
      "execution_count": null,
      "outputs": []
    },
    {
      "cell_type": "code",
      "source": [
        "# from the local csv file, load table \n",
        "#\n",
        "with open('GrandElectors_by_state.csv','r') as f:\n",
        "  grandel = pd.read_csv(f, index_col=0, encoding='utf-8')\n",
        "\n",
        "# store table in SQL table for memory sqlite database\n",
        "#\n",
        "%sql DROP TABLE if EXISTS grandel;\n",
        "%sql PERSIST grandel;"
      ],
      "metadata": {
        "colab": {
          "base_uri": "https://localhost:8080/",
          "height": 87
        },
        "id": "z7pn_NUMLGGh",
        "outputId": "c8b4b9ec-8cb7-40f3-8095-050ffc1d8bc4"
      },
      "execution_count": null,
      "outputs": [
        {
          "output_type": "stream",
          "name": "stdout",
          "text": [
            " * sqlite://\n",
            "Done.\n",
            " * sqlite://\n"
          ]
        },
        {
          "output_type": "execute_result",
          "data": {
            "application/vnd.google.colaboratory.intrinsic+json": {
              "type": "string"
            },
            "text/plain": [
              "'Persisted grandel'"
            ]
          },
          "metadata": {},
          "execution_count": 5
        }
      ]
    },
    {
      "cell_type": "code",
      "source": [
        "# from local csv file, load table\n",
        "#\n",
        "with open('Population_by_state.csv','r') as f:\n",
        "  popula = pd.read_csv(f, index_col=0, encoding='utf-8')\n",
        "\n",
        "# store table in an SQL table for memory sqlite database\n",
        "#\n",
        "%sql DROP TABLE if EXISTS popula;\n",
        "%sql PERSIST popula;"
      ],
      "metadata": {
        "colab": {
          "base_uri": "https://localhost:8080/",
          "height": 87
        },
        "id": "1JPBEdXXL-A1",
        "outputId": "52b4130b-0830-470c-ee2e-71963d9f9cec"
      },
      "execution_count": null,
      "outputs": [
        {
          "output_type": "stream",
          "name": "stdout",
          "text": [
            " * sqlite://\n",
            "Done.\n",
            " * sqlite://\n"
          ]
        },
        {
          "output_type": "execute_result",
          "data": {
            "application/vnd.google.colaboratory.intrinsic+json": {
              "type": "string"
            },
            "text/plain": [
              "'Persisted popula'"
            ]
          },
          "metadata": {},
          "execution_count": 6
        }
      ]
    },
    {
      "cell_type": "code",
      "source": [
        "# convert all states to uppercase\n",
        "%%sql\n",
        "UPDATE grandel SET State = UPPER(State);"
      ],
      "metadata": {
        "colab": {
          "base_uri": "https://localhost:8080/"
        },
        "id": "tTRMdZ4IMYNK",
        "outputId": "35813ab3-4590-418a-c584-7a4293f789a4"
      },
      "execution_count": null,
      "outputs": [
        {
          "output_type": "stream",
          "name": "stdout",
          "text": [
            " * sqlite://\n",
            "51 rows affected.\n"
          ]
        },
        {
          "output_type": "execute_result",
          "data": {
            "text/plain": [
              "[]"
            ]
          },
          "metadata": {},
          "execution_count": 7
        }
      ]
    },
    {
      "cell_type": "code",
      "source": [
        "# joini tables on the state key\n",
        "%%sql\n",
        "SELECT grandel.State\n",
        "FROM grandel INNER JOIN popula\n",
        "      ON grandel.State = popula.State\n",
        "ORDER BY grandel.State"
      ],
      "metadata": {
        "colab": {
          "base_uri": "https://localhost:8080/",
          "height": 1000
        },
        "id": "WcP2gAa1Mjgw",
        "outputId": "a6fd4b5a-1964-4c33-c513-879bf13b7ae4"
      },
      "execution_count": null,
      "outputs": [
        {
          "output_type": "stream",
          "name": "stdout",
          "text": [
            " * sqlite://\n",
            "Done.\n"
          ]
        },
        {
          "output_type": "execute_result",
          "data": {
            "text/html": [
              "<table>\n",
              "    <thead>\n",
              "        <tr>\n",
              "            <th>State</th>\n",
              "        </tr>\n",
              "    </thead>\n",
              "    <tbody>\n",
              "        <tr>\n",
              "            <td>ALABAMA</td>\n",
              "        </tr>\n",
              "        <tr>\n",
              "            <td>ALASKA</td>\n",
              "        </tr>\n",
              "        <tr>\n",
              "            <td>ARIZONA</td>\n",
              "        </tr>\n",
              "        <tr>\n",
              "            <td>ARKANSAS</td>\n",
              "        </tr>\n",
              "        <tr>\n",
              "            <td>CALIFORNIA</td>\n",
              "        </tr>\n",
              "        <tr>\n",
              "            <td>COLORADO</td>\n",
              "        </tr>\n",
              "        <tr>\n",
              "            <td>CONNECTICUT</td>\n",
              "        </tr>\n",
              "        <tr>\n",
              "            <td>DELAWARE</td>\n",
              "        </tr>\n",
              "        <tr>\n",
              "            <td>DISTRICT OF COLUMBIA</td>\n",
              "        </tr>\n",
              "        <tr>\n",
              "            <td>FLORIDA</td>\n",
              "        </tr>\n",
              "        <tr>\n",
              "            <td>GEORGIA</td>\n",
              "        </tr>\n",
              "        <tr>\n",
              "            <td>HAWAII</td>\n",
              "        </tr>\n",
              "        <tr>\n",
              "            <td>IDAHO</td>\n",
              "        </tr>\n",
              "        <tr>\n",
              "            <td>ILLINOIS</td>\n",
              "        </tr>\n",
              "        <tr>\n",
              "            <td>INDIANA</td>\n",
              "        </tr>\n",
              "        <tr>\n",
              "            <td>IOWA</td>\n",
              "        </tr>\n",
              "        <tr>\n",
              "            <td>KANSAS</td>\n",
              "        </tr>\n",
              "        <tr>\n",
              "            <td>KENTUCKY</td>\n",
              "        </tr>\n",
              "        <tr>\n",
              "            <td>LOUISIANA</td>\n",
              "        </tr>\n",
              "        <tr>\n",
              "            <td>MAINE</td>\n",
              "        </tr>\n",
              "        <tr>\n",
              "            <td>MARYLAND</td>\n",
              "        </tr>\n",
              "        <tr>\n",
              "            <td>MASSACHUSETTS</td>\n",
              "        </tr>\n",
              "        <tr>\n",
              "            <td>MICHIGAN</td>\n",
              "        </tr>\n",
              "        <tr>\n",
              "            <td>MINNESOTA</td>\n",
              "        </tr>\n",
              "        <tr>\n",
              "            <td>MISSISSIPPI</td>\n",
              "        </tr>\n",
              "        <tr>\n",
              "            <td>MISSOURI</td>\n",
              "        </tr>\n",
              "        <tr>\n",
              "            <td>MONTANA</td>\n",
              "        </tr>\n",
              "        <tr>\n",
              "            <td>NEBRASKA</td>\n",
              "        </tr>\n",
              "        <tr>\n",
              "            <td>NEVADA</td>\n",
              "        </tr>\n",
              "        <tr>\n",
              "            <td>NEW HAMPSHIRE</td>\n",
              "        </tr>\n",
              "        <tr>\n",
              "            <td>NEW JERSEY</td>\n",
              "        </tr>\n",
              "        <tr>\n",
              "            <td>NEW MEXICO</td>\n",
              "        </tr>\n",
              "        <tr>\n",
              "            <td>NEW YORK</td>\n",
              "        </tr>\n",
              "        <tr>\n",
              "            <td>NORTH CAROLINA</td>\n",
              "        </tr>\n",
              "        <tr>\n",
              "            <td>NORTH DAKOTA</td>\n",
              "        </tr>\n",
              "        <tr>\n",
              "            <td>OHIO</td>\n",
              "        </tr>\n",
              "        <tr>\n",
              "            <td>OKLAHOMA</td>\n",
              "        </tr>\n",
              "        <tr>\n",
              "            <td>OREGON</td>\n",
              "        </tr>\n",
              "        <tr>\n",
              "            <td>PENNSYLVANIA</td>\n",
              "        </tr>\n",
              "        <tr>\n",
              "            <td>RHODE ISLAND</td>\n",
              "        </tr>\n",
              "        <tr>\n",
              "            <td>SOUTH CAROLINA</td>\n",
              "        </tr>\n",
              "        <tr>\n",
              "            <td>SOUTH DAKOTA</td>\n",
              "        </tr>\n",
              "        <tr>\n",
              "            <td>TENNESSEE</td>\n",
              "        </tr>\n",
              "        <tr>\n",
              "            <td>TEXAS</td>\n",
              "        </tr>\n",
              "        <tr>\n",
              "            <td>UTAH</td>\n",
              "        </tr>\n",
              "        <tr>\n",
              "            <td>VERMONT</td>\n",
              "        </tr>\n",
              "        <tr>\n",
              "            <td>VIRGINIA</td>\n",
              "        </tr>\n",
              "        <tr>\n",
              "            <td>WASHINGTON</td>\n",
              "        </tr>\n",
              "        <tr>\n",
              "            <td>WEST VIRGINIA</td>\n",
              "        </tr>\n",
              "        <tr>\n",
              "            <td>WISCONSIN</td>\n",
              "        </tr>\n",
              "        <tr>\n",
              "            <td>WYOMING</td>\n",
              "        </tr>\n",
              "    </tbody>\n",
              "</table>"
            ],
            "text/plain": [
              "[('ALABAMA',),\n",
              " ('ALASKA',),\n",
              " ('ARIZONA',),\n",
              " ('ARKANSAS',),\n",
              " ('CALIFORNIA',),\n",
              " ('COLORADO',),\n",
              " ('CONNECTICUT',),\n",
              " ('DELAWARE',),\n",
              " ('DISTRICT OF COLUMBIA',),\n",
              " ('FLORIDA',),\n",
              " ('GEORGIA',),\n",
              " ('HAWAII',),\n",
              " ('IDAHO',),\n",
              " ('ILLINOIS',),\n",
              " ('INDIANA',),\n",
              " ('IOWA',),\n",
              " ('KANSAS',),\n",
              " ('KENTUCKY',),\n",
              " ('LOUISIANA',),\n",
              " ('MAINE',),\n",
              " ('MARYLAND',),\n",
              " ('MASSACHUSETTS',),\n",
              " ('MICHIGAN',),\n",
              " ('MINNESOTA',),\n",
              " ('MISSISSIPPI',),\n",
              " ('MISSOURI',),\n",
              " ('MONTANA',),\n",
              " ('NEBRASKA',),\n",
              " ('NEVADA',),\n",
              " ('NEW HAMPSHIRE',),\n",
              " ('NEW JERSEY',),\n",
              " ('NEW MEXICO',),\n",
              " ('NEW YORK',),\n",
              " ('NORTH CAROLINA',),\n",
              " ('NORTH DAKOTA',),\n",
              " ('OHIO',),\n",
              " ('OKLAHOMA',),\n",
              " ('OREGON',),\n",
              " ('PENNSYLVANIA',),\n",
              " ('RHODE ISLAND',),\n",
              " ('SOUTH CAROLINA',),\n",
              " ('SOUTH DAKOTA',),\n",
              " ('TENNESSEE',),\n",
              " ('TEXAS',),\n",
              " ('UTAH',),\n",
              " ('VERMONT',),\n",
              " ('VIRGINIA',),\n",
              " ('WASHINGTON',),\n",
              " ('WEST VIRGINIA',),\n",
              " ('WISCONSIN',),\n",
              " ('WYOMING',)]"
            ]
          },
          "metadata": {},
          "execution_count": 8
        }
      ]
    },
    {
      "cell_type": "code",
      "source": [
        "# change name of element\n",
        "%%sql\n",
        "UPDATE grandel\n",
        "SET State = 'DC'\n",
        "WHERE State = \"DISTRICT OF COLUMBIA\";"
      ],
      "metadata": {
        "colab": {
          "base_uri": "https://localhost:8080/"
        },
        "id": "F1rC6ok_Ms3t",
        "outputId": "ba18ee98-8640-4c9d-a42f-47ba3f101386"
      },
      "execution_count": null,
      "outputs": [
        {
          "output_type": "stream",
          "name": "stdout",
          "text": [
            " * sqlite://\n",
            "1 rows affected.\n"
          ]
        },
        {
          "output_type": "execute_result",
          "data": {
            "text/plain": [
              "[]"
            ]
          },
          "metadata": {},
          "execution_count": 9
        }
      ]
    },
    {
      "cell_type": "code",
      "source": [
        "# create a new column ratio\n",
        "%%sql\n",
        "ALTER TABLE popula\n",
        "ADD ratio int;"
      ],
      "metadata": {
        "colab": {
          "base_uri": "https://localhost:8080/"
        },
        "id": "P7W4bYLpM5pz",
        "outputId": "afda20e9-cd2b-49a1-c098-bfa7a8f312ad"
      },
      "execution_count": null,
      "outputs": [
        {
          "output_type": "stream",
          "name": "stdout",
          "text": [
            " * sqlite://\n",
            "Done.\n"
          ]
        },
        {
          "output_type": "execute_result",
          "data": {
            "text/plain": [
              "[]"
            ]
          },
          "metadata": {},
          "execution_count": 10
        }
      ]
    },
    {
      "cell_type": "code",
      "source": [
        "# Compute the ratio between the number of grand electors and the population. \n",
        "#create new column with the ratio.\n",
        "%%sql\n",
        "SELECT ratio \n",
        "FROM grandel INNER JOIN popula\n",
        "      ON grandel.State = popula.State\n",
        "WHERE \n",
        "  ratio = (GrandElectors / Population)\n",
        "  ORDER BY grandel.State DESC;"
      ],
      "metadata": {
        "colab": {
          "base_uri": "https://localhost:8080/",
          "height": 75
        },
        "id": "FzxQhtBNNCiO",
        "outputId": "7614c2b5-64b4-4920-c579-9c2b784a7de9"
      },
      "execution_count": null,
      "outputs": [
        {
          "output_type": "stream",
          "name": "stdout",
          "text": [
            " * sqlite://\n",
            "Done.\n"
          ]
        },
        {
          "output_type": "execute_result",
          "data": {
            "text/html": [
              "<table>\n",
              "    <thead>\n",
              "        <tr>\n",
              "            <th>ratio</th>\n",
              "        </tr>\n",
              "    </thead>\n",
              "    <tbody>\n",
              "    </tbody>\n",
              "</table>"
            ],
            "text/plain": [
              "[]"
            ]
          },
          "metadata": {},
          "execution_count": 11
        }
      ]
    },
    {
      "cell_type": "code",
      "source": [
        "#order states by decreasing ratio of Grand Electors per capita. \n",
        "#\n",
        "%%sql\n",
        "SELECT ratio \n",
        "FROM grandel INNER JOIN popula\n",
        "      ON grandel.State = popula.State\n",
        "WHERE \n",
        "  ratio = (GrandElectors / Population)\n",
        "  ORDER BY ratio DESC;"
      ],
      "metadata": {
        "colab": {
          "base_uri": "https://localhost:8080/",
          "height": 75
        },
        "id": "MMlGp4_kNMdJ",
        "outputId": "56391dd2-e4eb-48d6-e6db-e7bfe0f37d33"
      },
      "execution_count": null,
      "outputs": [
        {
          "output_type": "stream",
          "name": "stdout",
          "text": [
            " * sqlite://\n",
            "Done.\n"
          ]
        },
        {
          "output_type": "execute_result",
          "data": {
            "text/html": [
              "<table>\n",
              "    <thead>\n",
              "        <tr>\n",
              "            <th>ratio</th>\n",
              "        </tr>\n",
              "    </thead>\n",
              "    <tbody>\n",
              "    </tbody>\n",
              "</table>"
            ],
            "text/plain": [
              "[]"
            ]
          },
          "metadata": {},
          "execution_count": 12
        }
      ]
    },
    {
      "cell_type": "code",
      "source": [
        "# compute the running total of Grand Electors in the sorted list.\n",
        "%%sql\n",
        "SELECT GrandElectors\n",
        "SUM (\"GrandElectors\") OVER (ORDER BY 'ratio') AS RunningTotal\n",
        "FROM grandel INNER JOIN popula\n",
        "      ON grandel.State = popula.State;"
      ],
      "metadata": {
        "colab": {
          "base_uri": "https://localhost:8080/"
        },
        "id": "wCU229_4NiVO",
        "outputId": "b36aa836-3704-47bb-9028-d1b7d02bb5ef"
      },
      "execution_count": null,
      "outputs": [
        {
          "output_type": "stream",
          "name": "stdout",
          "text": [
            " * sqlite://\n",
            "(sqlite3.OperationalError) near \"(\": syntax error\n",
            "[SQL: SELECT GrandElectors\n",
            "SUM (\"GrandElectors\") OVER (ORDER BY 'ratio') AS RunningTotal\n",
            "FROM grandel INNER JOIN popula\n",
            "      ON grandel.State = popula.State;]\n",
            "(Background on this error at: https://sqlalche.me/e/14/e3q8)\n"
          ]
        }
      ]
    }
  ]
}