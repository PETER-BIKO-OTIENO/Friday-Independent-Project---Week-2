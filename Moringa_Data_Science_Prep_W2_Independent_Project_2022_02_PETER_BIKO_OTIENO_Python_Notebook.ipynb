{
  "nbformat": 4,
  "nbformat_minor": 0,
  "metadata": {
    "colab": {
      "name": "Moringa_Data_Science_Prep_W2_Independent_Project_2022_02_PETER_BIKO_OTIENO_Python_Notebook.ipynb",
      "provenance": [],
      "collapsed_sections": []
    },
    "kernelspec": {
      "name": "python3",
      "display_name": "Python 3"
    },
    "language_info": {
      "name": "python"
    }
  },
  "cells": [
    {
      "cell_type": "markdown",
      "source": [
        "Python code that performs the following procedures\n",
        "\n",
        "Delete a contact from the dictionary when the user specifies the its key   \n",
        "\n",
        "Print out the first 2 contacts. \n",
        "\n",
        "Display the total no. of contacts left in the dictionary.\n",
        "\n",
        "Add 2 new contacts in the dictionary. \n",
        "\n",
        "Print out all the contacts."
      ],
      "metadata": {
        "id": "O9OQ2lC5IC35"
      }
    },
    {
      "cell_type": "code",
      "source": [
        "contact_book = {'Parul' : 'parul@moringa.org',\n",
        "\n",
        "        'Thomas' : 'thomas@moringa.org',\n",
        "\n",
        "        'Ashley' : 'ashley@moringa.org',\n",
        "\n",
        "        'Kellen' : 'kellen@moringa.org',\n",
        "\n",
        "        'June' : 'june@moringa.org',\n",
        "\n",
        "        'Joseph' : 'joe@moringa.org',\n",
        "\n",
        "        'Lillian' : 'lillian@moringa.org',\n",
        "\n",
        "        'Arnold' : 'arnold@moringa.org' \n",
        "}"
      ],
      "metadata": {
        "id": "evbn7ZUeIO7X"
      },
      "execution_count": null,
      "outputs": []
    },
    {
      "cell_type": "code",
      "source": [
        "# Deleting contact from the dictionary when the user specifies the its key\n",
        "# removing the contact parul from contact_book dictionary\n",
        "\n",
        "updated_contact_book = contact_book.pop(\"Parul\")\n",
        "print(updated_contact_book)"
      ],
      "metadata": {
        "colab": {
          "base_uri": "https://localhost:8080/"
        },
        "id": "0SM7x4xAIpgI",
        "outputId": "a05bd8df-d7ae-4c57-9369-a59e76cbc914"
      },
      "execution_count": null,
      "outputs": [
        {
          "output_type": "stream",
          "name": "stdout",
          "text": [
            "parul@moringa.org\n"
          ]
        }
      ]
    },
    {
      "cell_type": "code",
      "source": [
        "# Print the first 2 contacts\n",
        "contact_book_items = contact_book.items()\n",
        "first_two = list(contact_book_items)[:2]\n",
        "print(first_two)"
      ],
      "metadata": {
        "colab": {
          "base_uri": "https://localhost:8080/"
        },
        "id": "VJWe9FzEI0j7",
        "outputId": "98ccc969-4978-4a5b-8736-d976f87ceb39"
      },
      "execution_count": null,
      "outputs": [
        {
          "output_type": "stream",
          "name": "stdout",
          "text": [
            "[('Thomas', 'thomas@moringa.org'), ('Ashley', 'ashley@moringa.org')]\n"
          ]
        }
      ]
    },
    {
      "cell_type": "code",
      "source": [
        "# Display the total no. of contacts left in the dictionary.\n",
        "print(len(contact_book))"
      ],
      "metadata": {
        "colab": {
          "base_uri": "https://localhost:8080/"
        },
        "id": "Z8Cg1VglI9iU",
        "outputId": "1c675332-07bb-4966-86b9-d2b91789eba7"
      },
      "execution_count": null,
      "outputs": [
        {
          "output_type": "stream",
          "name": "stdout",
          "text": [
            "7\n"
          ]
        }
      ]
    },
    {
      "cell_type": "code",
      "source": [
        "# Add 2 new contacts in the dictionary.\n",
        "# adding contacts mercy and alberta\n",
        "contact_book['Mercy'] = 'mercy@moringa.org'\n",
        "contact_book['alberta'] = 'alberta@moringa.org'\n",
        "print(\"new contact_book is: \", contact_book)"
      ],
      "metadata": {
        "colab": {
          "base_uri": "https://localhost:8080/"
        },
        "id": "Tgw_Ft5WJENt",
        "outputId": "93cac9dc-fc25-4f5e-dfb2-02050c5b4126"
      },
      "execution_count": null,
      "outputs": [
        {
          "output_type": "stream",
          "name": "stdout",
          "text": [
            "new contact_book is:  {'Thomas': 'thomas@moringa.org', 'Ashley': 'ashley@moringa.org', 'Kellen': 'kellen@moringa.org', 'June': 'june@moringa.org', 'Joseph': 'joe@moringa.org', 'Lillian': 'lillian@moringa.org', 'Arnold': 'arnold@moringa.org', 'Mercy': 'mercy@moringa.org', 'alberta': 'alberta@moringa.org'}\n"
          ]
        }
      ]
    },
    {
      "cell_type": "code",
      "source": [
        "# Print out all the contacts.\n",
        "print(contact_book)"
      ],
      "metadata": {
        "colab": {
          "base_uri": "https://localhost:8080/"
        },
        "id": "DuZiHj4NJKhx",
        "outputId": "1c0b90a7-10ba-4275-dd6b-790947ca844b"
      },
      "execution_count": null,
      "outputs": [
        {
          "output_type": "stream",
          "name": "stdout",
          "text": [
            "{'Thomas': 'thomas@moringa.org', 'Ashley': 'ashley@moringa.org', 'Kellen': 'kellen@moringa.org', 'June': 'june@moringa.org', 'Joseph': 'joe@moringa.org', 'Lillian': 'lillian@moringa.org', 'Arnold': 'arnold@moringa.org', 'Mercy': 'mercy@moringa.org', 'alberta': 'alberta@moringa.org'}\n"
          ]
        }
      ]
    }
  ]
}